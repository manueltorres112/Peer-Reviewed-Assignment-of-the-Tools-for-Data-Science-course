{
 "cells": [
  {
   "cell_type": "markdown",
   "id": "4bb88710",
   "metadata": {},
   "source": [
    "# Data Science Tools and Ecosystem"
   ]
  },
  {
   "cell_type": "markdown",
   "id": "0800420c",
   "metadata": {},
   "source": [
    "In this notebook, Data Science Tools and Ecosystem are summarized"
   ]
  },
  {
   "cell_type": "markdown",
   "id": "5e4fd16f",
   "metadata": {},
   "source": [
    "**Objectives**:\n",
    "\n",
    "    *   List popular languages that Data Scientist use\n",
    "    *   List commonly used libraries used by Data Scientists\n",
    "    *   Comment on Data Science tools\n"
   ]
  },
  {
   "cell_type": "markdown",
   "id": "4e8fec27",
   "metadata": {},
   "source": [
    "Some of the popular languages that Data Scientists use are:\n",
    "\n",
    "    1. Python\n",
    "    2. R\n",
    "    3. SQL\n",
    "    4. Java\n",
    "    5. Scala\n",
    "    6. JavaScript"
   ]
  },
  {
   "cell_type": "markdown",
   "id": "d2fc1f48",
   "metadata": {},
   "source": [
    "Some of the commonly used libraries used by Data Scientists include:\n",
    "\n",
    "    1. TensorFlow\n",
    "    2. NumPy\n",
    "    3. SciPy\n",
    "    4. Pandas\n",
    "    5. Matplotlib\n",
    "    6. Keras\n",
    "    7. SciKit-Learn\n",
    "    8. PyTorch\n",
    "    9. Scrapy"
   ]
  },
  {
   "cell_type": "markdown",
   "id": "6999b860",
   "metadata": {},
   "source": [
    "| Data Science Tools     | \n",
    "| ----------- |\n",
    "| SAS  | \n",
    "| Apache Spark  |\n",
    "| Big ML   |"
   ]
  },
  {
   "cell_type": "markdown",
   "id": "5ce83ee9",
   "metadata": {},
   "source": [
    "### Below are a few examples of evaluating arithmetic expressions in Python"
   ]
  },
  {
   "cell_type": "code",
   "execution_count": 1,
   "id": "333e3158",
   "metadata": {},
   "outputs": [
    {
     "data": {
      "text/plain": [
       "17"
      ]
     },
     "execution_count": 1,
     "metadata": {},
     "output_type": "execute_result"
    }
   ],
   "source": [
    "#This a simple arithmetic expression to mutiply then add integers\n",
    "code = compile(\"(3 * 4) + 5\", \"<string>\", \"eval\")\n",
    "eval(code)\n",
    "# Result: 17"
   ]
  },
  {
   "cell_type": "code",
   "execution_count": 2,
   "id": "5eeb0e9e",
   "metadata": {},
   "outputs": [
    {
     "name": "stdout",
     "output_type": "stream",
     "text": [
      "0 days, 3.3333333333333335 hours, 0 mins. \n"
     ]
    }
   ],
   "source": [
    "#This will convert 200 minutes to hours by diving by 60\n",
    "\n",
    "days = 0\n",
    "hours = 0\n",
    "mins = 0\n",
    "\n",
    "time = 200\n",
    "#days = time / 1440\n",
    "leftover_minutes = time % 1440\n",
    "hours = leftover_minutes / 60\n",
    "#mins = time - (days*1440) - (hours*60)\n",
    "print(str(days) + \" days, \" + str(hours) + \" hours, \" + str(mins) +  \" mins. \")"
   ]
  },
  {
   "cell_type": "code",
   "execution_count": null,
   "id": "d7eb03c8",
   "metadata": {},
   "outputs": [],
   "source": []
  }
 ],
 "metadata": {
  "kernelspec": {
   "display_name": "Python 3 (ipykernel)",
   "language": "python",
   "name": "python3"
  },
  "language_info": {
   "codemirror_mode": {
    "name": "ipython",
    "version": 3
   },
   "file_extension": ".py",
   "mimetype": "text/x-python",
   "name": "python",
   "nbconvert_exporter": "python",
   "pygments_lexer": "ipython3",
   "version": "3.9.13"
  }
 },
 "nbformat": 4,
 "nbformat_minor": 5
}
